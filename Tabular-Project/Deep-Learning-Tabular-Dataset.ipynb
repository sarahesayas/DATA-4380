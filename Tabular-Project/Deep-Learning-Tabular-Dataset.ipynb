{
 "cells": [
  {
   "cell_type": "code",
   "execution_count": 1,
   "id": "760c0477-1fb0-40c2-9394-064db91b2270",
   "metadata": {},
   "outputs": [
    {
     "name": "stderr",
     "output_type": "stream",
     "text": [
      "C:\\Users\\sarah\\anaconda3\\lib\\site-packages\\scipy\\__init__.py:146: UserWarning: A NumPy version >=1.16.5 and <1.23.0 is required for this version of SciPy (detected version 1.26.4\n",
      "  warnings.warn(f\"A NumPy version >={np_minversion} and <{np_maxversion}\"\n"
     ]
    }
   ],
   "source": [
    "from data_cleaning import *"
   ]
  },
  {
   "cell_type": "code",
   "execution_count": 2,
   "id": "edc733ee-17ea-4654-8f71-282bf0007650",
   "metadata": {},
   "outputs": [],
   "source": [
    "df = pd.read_csv('TRAIN100k.csv')\n",
    "\n",
    "df = data_types(df)\n",
    "df = missing_values(df)\n",
    "df = remove_id_column(df)\n",
    "df = invalid_entries(df)\n",
    "df = handle_outliers(df)"
   ]
  },
  {
   "cell_type": "code",
   "execution_count": 3,
   "id": "0e0c3239-3a9f-40bc-96ab-5b97bcfc7c39",
   "metadata": {},
   "outputs": [],
   "source": [
    "df.drop(['ind_nuevo','indrel','conyuemp','tipodom'], axis=1, inplace=True)"
   ]
  },
  {
   "cell_type": "code",
   "execution_count": 4,
   "id": "ea696a87-8ce8-4965-b9ed-30539aa16bf6",
   "metadata": {},
   "outputs": [],
   "source": [
    "df.drop(['ind_empleado', 'ult_fec_cli_1t'], axis=1, inplace=True)"
   ]
  },
  {
   "cell_type": "code",
   "execution_count": 5,
   "id": "45b0b85b-e2a0-47f3-9f2b-f1c7f7a2830a",
   "metadata": {},
   "outputs": [],
   "source": [
    "df.drop(df.columns[14:-1], axis=1, inplace=True)"
   ]
  },
  {
   "cell_type": "code",
   "execution_count": 6,
   "id": "6f4048ae-ba73-4a29-b76d-312e5effe608",
   "metadata": {},
   "outputs": [
    {
     "data": {
      "text/plain": [
       "Index(['pais_residencia', 'sexo', 'age', 'antiguedad', 'tiprel_1mes',\n",
       "       'indresi', 'indext', 'canal_entrada', 'indfall', 'cod_prov', 'nomprov',\n",
       "       'ind_actividad_cliente', 'renta', 'segmento', 'ind_recibo_ult1'],\n",
       "      dtype='object')"
      ]
     },
     "execution_count": 6,
     "metadata": {},
     "output_type": "execute_result"
    }
   ],
   "source": [
    "df.columns"
   ]
  },
  {
   "cell_type": "code",
   "execution_count": 7,
   "id": "e6f3936a-0273-49ce-8bef-fa2f526bcaf2",
   "metadata": {},
   "outputs": [
    {
     "data": {
      "text/html": [
       "<div>\n",
       "<style scoped>\n",
       "    .dataframe tbody tr th:only-of-type {\n",
       "        vertical-align: middle;\n",
       "    }\n",
       "\n",
       "    .dataframe tbody tr th {\n",
       "        vertical-align: top;\n",
       "    }\n",
       "\n",
       "    .dataframe thead th {\n",
       "        text-align: right;\n",
       "    }\n",
       "</style>\n",
       "<table border=\"1\" class=\"dataframe\">\n",
       "  <thead>\n",
       "    <tr style=\"text-align: right;\">\n",
       "      <th></th>\n",
       "      <th>age</th>\n",
       "      <th>antiguedad</th>\n",
       "      <th>cod_prov</th>\n",
       "      <th>ind_actividad_cliente</th>\n",
       "      <th>renta</th>\n",
       "      <th>ind_recibo_ult1</th>\n",
       "    </tr>\n",
       "  </thead>\n",
       "  <tbody>\n",
       "    <tr>\n",
       "      <th>count</th>\n",
       "      <td>99316.000000</td>\n",
       "      <td>99316.000000</td>\n",
       "      <td>99230.000000</td>\n",
       "      <td>99316.000000</td>\n",
       "      <td>8.171600e+04</td>\n",
       "      <td>99999.000000</td>\n",
       "    </tr>\n",
       "    <tr>\n",
       "      <th>mean</th>\n",
       "      <td>29.409461</td>\n",
       "      <td>36.385597</td>\n",
       "      <td>24.944825</td>\n",
       "      <td>0.410306</td>\n",
       "      <td>1.155589e+05</td>\n",
       "      <td>0.097761</td>\n",
       "    </tr>\n",
       "    <tr>\n",
       "      <th>std</th>\n",
       "      <td>10.446588</td>\n",
       "      <td>6.579797</td>\n",
       "      <td>13.646374</td>\n",
       "      <td>0.491892</td>\n",
       "      <td>1.594097e+05</td>\n",
       "      <td>0.296993</td>\n",
       "    </tr>\n",
       "    <tr>\n",
       "      <th>min</th>\n",
       "      <td>18.000000</td>\n",
       "      <td>0.000000</td>\n",
       "      <td>1.000000</td>\n",
       "      <td>0.000000</td>\n",
       "      <td>2.539800e+03</td>\n",
       "      <td>0.000000</td>\n",
       "    </tr>\n",
       "    <tr>\n",
       "      <th>25%</th>\n",
       "      <td>23.000000</td>\n",
       "      <td>33.000000</td>\n",
       "      <td>11.000000</td>\n",
       "      <td>0.000000</td>\n",
       "      <td>6.217089e+04</td>\n",
       "      <td>0.000000</td>\n",
       "    </tr>\n",
       "    <tr>\n",
       "      <th>50%</th>\n",
       "      <td>25.000000</td>\n",
       "      <td>34.000000</td>\n",
       "      <td>28.000000</td>\n",
       "      <td>0.000000</td>\n",
       "      <td>8.961021e+04</td>\n",
       "      <td>0.000000</td>\n",
       "    </tr>\n",
       "    <tr>\n",
       "      <th>75%</th>\n",
       "      <td>31.000000</td>\n",
       "      <td>37.000000</td>\n",
       "      <td>36.000000</td>\n",
       "      <td>1.000000</td>\n",
       "      <td>1.330239e+05</td>\n",
       "      <td>0.000000</td>\n",
       "    </tr>\n",
       "    <tr>\n",
       "      <th>max</th>\n",
       "      <td>106.000000</td>\n",
       "      <td>157.000000</td>\n",
       "      <td>52.000000</td>\n",
       "      <td>1.000000</td>\n",
       "      <td>2.425324e+07</td>\n",
       "      <td>1.000000</td>\n",
       "    </tr>\n",
       "  </tbody>\n",
       "</table>\n",
       "</div>"
      ],
      "text/plain": [
       "                age    antiguedad      cod_prov  ind_actividad_cliente  \\\n",
       "count  99316.000000  99316.000000  99230.000000           99316.000000   \n",
       "mean      29.409461     36.385597     24.944825               0.410306   \n",
       "std       10.446588      6.579797     13.646374               0.491892   \n",
       "min       18.000000      0.000000      1.000000               0.000000   \n",
       "25%       23.000000     33.000000     11.000000               0.000000   \n",
       "50%       25.000000     34.000000     28.000000               0.000000   \n",
       "75%       31.000000     37.000000     36.000000               1.000000   \n",
       "max      106.000000    157.000000     52.000000               1.000000   \n",
       "\n",
       "              renta  ind_recibo_ult1  \n",
       "count  8.171600e+04     99999.000000  \n",
       "mean   1.155589e+05         0.097761  \n",
       "std    1.594097e+05         0.296993  \n",
       "min    2.539800e+03         0.000000  \n",
       "25%    6.217089e+04         0.000000  \n",
       "50%    8.961021e+04         0.000000  \n",
       "75%    1.330239e+05         0.000000  \n",
       "max    2.425324e+07         1.000000  "
      ]
     },
     "execution_count": 7,
     "metadata": {},
     "output_type": "execute_result"
    }
   ],
   "source": [
    "df.describe()"
   ]
  },
  {
   "cell_type": "code",
   "execution_count": 8,
   "id": "17dd8b21-c7fe-4a83-9c49-479985f42bce",
   "metadata": {},
   "outputs": [],
   "source": [
    "missing = ['pais_residencia', 'sexo', 'age', 'antiguedad', 'tiprel_1mes', 'indresi', \n",
    "           'indext', 'canal_entrada', 'indfall', 'cod_prov', 'nomprov', \n",
    "           'ind_actividad_cliente', 'renta', 'segmento']\n",
    "\n",
    "df = df.dropna(subset=missing)"
   ]
  },
  {
   "cell_type": "code",
   "execution_count": 9,
   "id": "001f8b08-0066-4e1d-80cd-9367310327a4",
   "metadata": {
    "scrolled": true
   },
   "outputs": [],
   "source": [
    "#!pip install opendatasets"
   ]
  },
  {
   "cell_type": "code",
   "execution_count": 10,
   "id": "26fab04c-6696-4e6f-bd5f-0233fae9ea72",
   "metadata": {},
   "outputs": [],
   "source": [
    "import pandas as pd\n",
    "import data_cleaning\n",
    "import opendatasets as od\n",
    "import pandas as pd\n",
    "import zipfile\n",
    "import numpy as np\n",
    "from sklearn.decomposition import PCA\n",
    "from sklearn.preprocessing import StandardScaler\n",
    "from sklearn.decomposition import IncrementalPCA\n",
    "import matplotlib\n",
    "from matplotlib import pyplot as plt\n",
    "from sklearn.linear_model import LinearRegression\n",
    "from sklearn.metrics import mean_squared_error, r2_score\n",
    "import matplotlib.pyplot as plt\n",
    "from sklearn.model_selection import train_test_split\n",
    "from sklearn.ensemble import RandomForestClassifier\n",
    "from sklearn.metrics import classification_report\n",
    "\n",
    "from sklearn.preprocessing import LabelEncoder\n",
    "from sklearn.utils.class_weight import compute_class_weight\n",
    "from keras.models import Sequential\n",
    "from keras.layers import Dense"
   ]
  },
  {
   "cell_type": "code",
   "execution_count": 11,
   "id": "3fe25147-2ac3-4fd8-94e8-356589d09ee8",
   "metadata": {
    "scrolled": true
   },
   "outputs": [
    {
     "data": {
      "text/html": [
       "<div>\n",
       "<style scoped>\n",
       "    .dataframe tbody tr th:only-of-type {\n",
       "        vertical-align: middle;\n",
       "    }\n",
       "\n",
       "    .dataframe tbody tr th {\n",
       "        vertical-align: top;\n",
       "    }\n",
       "\n",
       "    .dataframe thead th {\n",
       "        text-align: right;\n",
       "    }\n",
       "</style>\n",
       "<table border=\"1\" class=\"dataframe\">\n",
       "  <thead>\n",
       "    <tr style=\"text-align: right;\">\n",
       "      <th></th>\n",
       "      <th>pais_residencia</th>\n",
       "      <th>sexo</th>\n",
       "      <th>age</th>\n",
       "      <th>antiguedad</th>\n",
       "      <th>tiprel_1mes</th>\n",
       "      <th>indresi</th>\n",
       "      <th>indext</th>\n",
       "      <th>canal_entrada</th>\n",
       "      <th>indfall</th>\n",
       "      <th>cod_prov</th>\n",
       "      <th>nomprov</th>\n",
       "      <th>ind_actividad_cliente</th>\n",
       "      <th>renta</th>\n",
       "      <th>segmento</th>\n",
       "      <th>ind_recibo_ult1</th>\n",
       "    </tr>\n",
       "  </thead>\n",
       "  <tbody>\n",
       "    <tr>\n",
       "      <th>0</th>\n",
       "      <td>ES</td>\n",
       "      <td>0</td>\n",
       "      <td>35.0</td>\n",
       "      <td>6.0</td>\n",
       "      <td>0</td>\n",
       "      <td>S</td>\n",
       "      <td>0</td>\n",
       "      <td>KHL</td>\n",
       "      <td>0</td>\n",
       "      <td>29.0</td>\n",
       "      <td>MALAGA</td>\n",
       "      <td>1.0</td>\n",
       "      <td>87218.10</td>\n",
       "      <td>1</td>\n",
       "      <td>0</td>\n",
       "    </tr>\n",
       "    <tr>\n",
       "      <th>1</th>\n",
       "      <td>ES</td>\n",
       "      <td>1</td>\n",
       "      <td>23.0</td>\n",
       "      <td>35.0</td>\n",
       "      <td>1</td>\n",
       "      <td>S</td>\n",
       "      <td>1</td>\n",
       "      <td>KHE</td>\n",
       "      <td>0</td>\n",
       "      <td>13.0</td>\n",
       "      <td>CIUDAD REAL</td>\n",
       "      <td>0.0</td>\n",
       "      <td>35548.74</td>\n",
       "      <td>2</td>\n",
       "      <td>0</td>\n",
       "    </tr>\n",
       "    <tr>\n",
       "      <th>2</th>\n",
       "      <td>ES</td>\n",
       "      <td>1</td>\n",
       "      <td>23.0</td>\n",
       "      <td>35.0</td>\n",
       "      <td>1</td>\n",
       "      <td>S</td>\n",
       "      <td>0</td>\n",
       "      <td>KHE</td>\n",
       "      <td>0</td>\n",
       "      <td>13.0</td>\n",
       "      <td>CIUDAD REAL</td>\n",
       "      <td>0.0</td>\n",
       "      <td>122179.11</td>\n",
       "      <td>2</td>\n",
       "      <td>0</td>\n",
       "    </tr>\n",
       "    <tr>\n",
       "      <th>3</th>\n",
       "      <td>ES</td>\n",
       "      <td>0</td>\n",
       "      <td>22.0</td>\n",
       "      <td>35.0</td>\n",
       "      <td>1</td>\n",
       "      <td>S</td>\n",
       "      <td>0</td>\n",
       "      <td>KHD</td>\n",
       "      <td>0</td>\n",
       "      <td>50.0</td>\n",
       "      <td>ZARAGOZA</td>\n",
       "      <td>0.0</td>\n",
       "      <td>119775.54</td>\n",
       "      <td>2</td>\n",
       "      <td>0</td>\n",
       "    </tr>\n",
       "    <tr>\n",
       "      <th>5</th>\n",
       "      <td>ES</td>\n",
       "      <td>0</td>\n",
       "      <td>23.0</td>\n",
       "      <td>35.0</td>\n",
       "      <td>1</td>\n",
       "      <td>S</td>\n",
       "      <td>0</td>\n",
       "      <td>KHE</td>\n",
       "      <td>0</td>\n",
       "      <td>45.0</td>\n",
       "      <td>TOLEDO</td>\n",
       "      <td>0.0</td>\n",
       "      <td>22220.04</td>\n",
       "      <td>2</td>\n",
       "      <td>0</td>\n",
       "    </tr>\n",
       "  </tbody>\n",
       "</table>\n",
       "</div>"
      ],
      "text/plain": [
       "  pais_residencia  sexo   age  antiguedad  tiprel_1mes indresi  indext  \\\n",
       "0              ES     0  35.0         6.0            0       S       0   \n",
       "1              ES     1  23.0        35.0            1       S       1   \n",
       "2              ES     1  23.0        35.0            1       S       0   \n",
       "3              ES     0  22.0        35.0            1       S       0   \n",
       "5              ES     0  23.0        35.0            1       S       0   \n",
       "\n",
       "  canal_entrada  indfall  cod_prov      nomprov  ind_actividad_cliente  \\\n",
       "0           KHL        0      29.0       MALAGA                    1.0   \n",
       "1           KHE        0      13.0  CIUDAD REAL                    0.0   \n",
       "2           KHE        0      13.0  CIUDAD REAL                    0.0   \n",
       "3           KHD        0      50.0     ZARAGOZA                    0.0   \n",
       "5           KHE        0      45.0       TOLEDO                    0.0   \n",
       "\n",
       "       renta  segmento  ind_recibo_ult1  \n",
       "0   87218.10         1                0  \n",
       "1   35548.74         2                0  \n",
       "2  122179.11         2                0  \n",
       "3  119775.54         2                0  \n",
       "5   22220.04         2                0  "
      ]
     },
     "execution_count": 11,
     "metadata": {},
     "output_type": "execute_result"
    }
   ],
   "source": [
    "# Assuming df is your DataFrame containing the categorical columns\n",
    "categorical_columns = ['sexo', 'tiprel_1mes', 'indext', 'indfall', 'segmento']\n",
    "\n",
    "# Initialize LabelEncoder\n",
    "label_encoder = LabelEncoder()\n",
    "\n",
    "# Apply label encoding to each categorical column\n",
    "for col in categorical_columns:\n",
    "    df[col] = label_encoder.fit_transform(df[col])\n",
    "\n",
    "# Print the DataFrame with label encoded categorical columns\n",
    "df.head()"
   ]
  },
  {
   "cell_type": "code",
   "execution_count": 12,
   "id": "e80c128e-1583-4df9-81e6-8bba45cf5554",
   "metadata": {},
   "outputs": [],
   "source": [
    "X = df[['sexo', 'age', 'antiguedad', 'tiprel_1mes','indext','indfall', 'cod_prov',\n",
    "        'ind_actividad_cliente', 'renta', 'segmento']]\n",
    "y = df['ind_recibo_ult1']\n",
    "\n",
    "X_train, X_test, y_train, y_test = train_test_split(X, y, test_size=0.2, random_state=42)"
   ]
  },
  {
   "cell_type": "code",
   "execution_count": 13,
   "id": "453543e0-4f80-40c7-ae7c-fe135bd67c0e",
   "metadata": {},
   "outputs": [
    {
     "name": "stderr",
     "output_type": "stream",
     "text": [
      "C:\\Users\\sarah\\anaconda3\\lib\\site-packages\\keras\\src\\layers\\core\\dense.py:87: UserWarning: Do not pass an `input_shape`/`input_dim` argument to a layer. When using Sequential models, prefer using an `Input(shape)` object as the first layer in the model instead.\n",
      "  super().__init__(activity_regularizer=activity_regularizer, **kwargs)\n"
     ]
    }
   ],
   "source": [
    "# Compute class weights separately for each class\n",
    "class_weights = compute_class_weight('balanced', classes=np.unique(y_train), y=y_train)\n",
    "\n",
    "# Convert class weights to a dictionary format\n",
    "class_weight_dict = {i: weight for i, weight in enumerate(class_weights)}\n",
    "\n",
    "# Build the neural network model\n",
    "model = Sequential()\n",
    "model.add(Dense(64, input_dim=X_train.shape[1], activation='relu'))\n",
    "model.add(Dense(32, activation='relu'))\n",
    "model.add(Dense(1, activation='sigmoid'))"
   ]
  },
  {
   "cell_type": "code",
   "execution_count": 14,
   "id": "aa33d4dd",
   "metadata": {},
   "outputs": [],
   "source": [
    "# Compile the model\n",
    "model.compile(loss='binary_crossentropy', optimizer='adam', metrics=['accuracy'])"
   ]
  },
  {
   "cell_type": "code",
   "execution_count": 17,
   "id": "f7a1a4d9",
   "metadata": {},
   "outputs": [
    {
     "name": "stdout",
     "output_type": "stream",
     "text": [
      "Epoch 1/10\n",
      "\u001b[1m2043/2043\u001b[0m \u001b[32m━━━━━━━━━━━━━━━━━━━━\u001b[0m\u001b[37m\u001b[0m \u001b[1m4s\u001b[0m 2ms/step - accuracy: 0.8139 - loss: 135.4571\n",
      "Epoch 2/10\n",
      "\u001b[1m2043/2043\u001b[0m \u001b[32m━━━━━━━━━━━━━━━━━━━━\u001b[0m\u001b[37m\u001b[0m \u001b[1m3s\u001b[0m 1ms/step - accuracy: 0.8152 - loss: 54.2418\n",
      "Epoch 3/10\n",
      "\u001b[1m2043/2043\u001b[0m \u001b[32m━━━━━━━━━━━━━━━━━━━━\u001b[0m\u001b[37m\u001b[0m \u001b[1m3s\u001b[0m 1ms/step - accuracy: 0.8165 - loss: 47.8207\n",
      "Epoch 4/10\n",
      "\u001b[1m2043/2043\u001b[0m \u001b[32m━━━━━━━━━━━━━━━━━━━━\u001b[0m\u001b[37m\u001b[0m \u001b[1m10s\u001b[0m 5ms/step - accuracy: 0.8137 - loss: 30.0309\n",
      "Epoch 5/10\n",
      "\u001b[1m2043/2043\u001b[0m \u001b[32m━━━━━━━━━━━━━━━━━━━━\u001b[0m\u001b[37m\u001b[0m \u001b[1m10s\u001b[0m 4ms/step - accuracy: 0.8105 - loss: 16.9269\n",
      "Epoch 6/10\n",
      "\u001b[1m2043/2043\u001b[0m \u001b[32m━━━━━━━━━━━━━━━━━━━━\u001b[0m\u001b[37m\u001b[0m \u001b[1m9s\u001b[0m 4ms/step - accuracy: 0.8196 - loss: 11.1414\n",
      "Epoch 7/10\n",
      "\u001b[1m2043/2043\u001b[0m \u001b[32m━━━━━━━━━━━━━━━━━━━━\u001b[0m\u001b[37m\u001b[0m \u001b[1m9s\u001b[0m 4ms/step - accuracy: 0.8194 - loss: 16.9103\n",
      "Epoch 8/10\n",
      "\u001b[1m2043/2043\u001b[0m \u001b[32m━━━━━━━━━━━━━━━━━━━━\u001b[0m\u001b[37m\u001b[0m \u001b[1m9s\u001b[0m 4ms/step - accuracy: 0.8340 - loss: 2.4214\n",
      "Epoch 9/10\n",
      "\u001b[1m2043/2043\u001b[0m \u001b[32m━━━━━━━━━━━━━━━━━━━━\u001b[0m\u001b[37m\u001b[0m \u001b[1m9s\u001b[0m 4ms/step - accuracy: 0.8335 - loss: 3.1534\n",
      "Epoch 10/10\n",
      "\u001b[1m2043/2043\u001b[0m \u001b[32m━━━━━━━━━━━━━━━━━━━━\u001b[0m\u001b[37m\u001b[0m \u001b[1m9s\u001b[0m 4ms/step - accuracy: 0.8501 - loss: 2.3700\n"
     ]
    },
    {
     "data": {
      "text/plain": [
       "<keras.src.callbacks.history.History at 0x29b4bd2f220>"
      ]
     },
     "execution_count": 17,
     "metadata": {},
     "output_type": "execute_result"
    }
   ],
   "source": [
    "# Train the model without class weights\n",
    "model.fit(X_train, y_train, epochs=10, batch_size=32, verbose=1)"
   ]
  },
  {
   "cell_type": "markdown",
   "id": "2e6840c0-10e2-4999-94af-6da36645209d",
   "metadata": {},
   "source": [
    "We ended up only using ONE target column, instead of all 24. I can't compare this with my previous project as I had included multiple target columns."
   ]
  },
  {
   "cell_type": "code",
   "execution_count": 18,
   "id": "04574d78",
   "metadata": {},
   "outputs": [
    {
     "name": "stdout",
     "output_type": "stream",
     "text": [
      "\u001b[1m511/511\u001b[0m \u001b[32m━━━━━━━━━━━━━━━━━━━━\u001b[0m\u001b[37m\u001b[0m \u001b[1m2s\u001b[0m 3ms/step - accuracy: 0.8996 - loss: 1.1059\n",
      "Accuracy: 0.8971425294876099\n",
      "\u001b[1m511/511\u001b[0m \u001b[32m━━━━━━━━━━━━━━━━━━━━\u001b[0m\u001b[37m\u001b[0m \u001b[1m2s\u001b[0m 3ms/step\n",
      "              precision    recall  f1-score   support\n",
      "\n",
      "           0       0.90      1.00      0.95     14662\n",
      "           1       0.00      0.00      0.00      1681\n",
      "\n",
      "    accuracy                           0.90     16343\n",
      "   macro avg       0.45      0.50      0.47     16343\n",
      "weighted avg       0.80      0.90      0.85     16343\n",
      "\n"
     ]
    },
    {
     "name": "stderr",
     "output_type": "stream",
     "text": [
      "C:\\Users\\sarah\\anaconda3\\lib\\site-packages\\sklearn\\metrics\\_classification.py:1248: UndefinedMetricWarning: Precision and F-score are ill-defined and being set to 0.0 in labels with no predicted samples. Use `zero_division` parameter to control this behavior.\n",
      "  _warn_prf(average, modifier, msg_start, len(result))\n",
      "C:\\Users\\sarah\\anaconda3\\lib\\site-packages\\sklearn\\metrics\\_classification.py:1248: UndefinedMetricWarning: Precision and F-score are ill-defined and being set to 0.0 in labels with no predicted samples. Use `zero_division` parameter to control this behavior.\n",
      "  _warn_prf(average, modifier, msg_start, len(result))\n",
      "C:\\Users\\sarah\\anaconda3\\lib\\site-packages\\sklearn\\metrics\\_classification.py:1248: UndefinedMetricWarning: Precision and F-score are ill-defined and being set to 0.0 in labels with no predicted samples. Use `zero_division` parameter to control this behavior.\n",
      "  _warn_prf(average, modifier, msg_start, len(result))\n"
     ]
    }
   ],
   "source": [
    "# Evaluate the model\n",
    "loss, accuracy = model.evaluate(X_test, y_test)\n",
    "print(f'Accuracy: {accuracy}')\n",
    "\n",
    "# Predictions\n",
    "y_pred = model.predict(X_test)\n",
    "# Convert probabilities to binary predictions\n",
    "y_pred_binary = (y_pred > 0.5).astype(int)\n",
    "\n",
    "# Classification report\n",
    "print(classification_report(y_test, y_pred_binary))"
   ]
  },
  {
   "cell_type": "code",
   "execution_count": 20,
   "id": "df55241a-2e05-4755-987b-7974d6d0388c",
   "metadata": {},
   "outputs": [
    {
     "name": "stderr",
     "output_type": "stream",
     "text": [
      "C:\\Users\\sarah\\anaconda3\\lib\\site-packages\\sklearn\\metrics\\_classification.py:1248: UndefinedMetricWarning: Precision and F-score are ill-defined and being set to 0.0 in labels with no predicted samples. Use `zero_division` parameter to control this behavior.\n",
      "  _warn_prf(average, modifier, msg_start, len(result))\n"
     ]
    },
    {
     "data": {
      "image/png": "[encoded data removed]",
      "text/plain": [
       "<Figure size 720x432 with 1 Axes>"
      ]
     },
     "metadata": {
      "needs_background": "light"
     },
     "output_type": "display_data"
    }
   ],
   "source": [
    "import numpy as np\n",
    "import matplotlib.pyplot as plt\n",
    "from sklearn.metrics import precision_recall_fscore_support\n",
    "\n",
    "# Extract precision, recall, and F1-score for each class\n",
    "precision, recall, f1_score, _ = precision_recall_fscore_support(y_test, y_pred_binary)\n",
    "\n",
    "# Define classes\n",
    "classes = ['Class 0', 'Class 1']\n",
    "\n",
    "# Set width of bars\n",
    "bar_width = 0.25\n",
    "\n",
    "# Set position of bars on X axis\n",
    "r1 = np.arange(len(precision))\n",
    "r2 = [x + bar_width for x in r1]\n",
    "r3 = [x + bar_width for x in r2]\n",
    "\n",
    "# Plot grouped bar plot\n",
    "plt.figure(figsize=(10, 6))\n",
    "plt.bar(r1, precision, color='skyblue', width=bar_width, edgecolor='grey', label='Precision')\n",
    "plt.bar(r2, recall, color='orange', width=bar_width, edgecolor='grey', label='Recall')\n",
    "plt.bar(r3, f1_score, color='green', width=bar_width, edgecolor='grey', label='F1-score')\n",
    "\n",
    "# Add xticks on the middle of the group bars\n",
    "plt.xlabel('Class', fontweight='bold')\n",
    "plt.xticks([r + bar_width for r in range(len(precision))], classes)\n",
    "\n",
    "# Add title and legend\n",
    "plt.title('Precision, Recall, and F1-score for each class')\n",
    "plt.legend()\n",
    "\n",
    "# Show plot\n",
    "plt.show()"
   ]
  },
  {
   "cell_type": "code",
   "execution_count": null,
   "id": "4db4deea-88dc-464e-b04e-070d73b29b00",
   "metadata": {},
   "outputs": [],
   "source": []
  }
 ],
 "metadata": {
  "kernelspec": {
   "display_name": "Python 3 (ipykernel)",
   "language": "python",
   "name": "python3"
  },
  "language_info": {
   "codemirror_mode": {
    "name": "ipython",
    "version": 3
   },
   "file_extension": ".py",
   "mimetype": "text/x-python",
   "name": "python",
   "nbconvert_exporter": "python",
   "pygments_lexer": "ipython3",
   "version": "3.9.7"
  }
 },
 "nbformat": 4,
 "nbformat_minor": 5
}
